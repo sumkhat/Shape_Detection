{
  "cells": [
    {
      "cell_type": "markdown",
      "metadata": {
        "id": "view-in-github",
        "colab_type": "text"
      },
      "source": [
        "<a href=\"https://colab.research.google.com/github/sumkhat/Shape_Detection/blob/main/Shape_Detection.ipynb\" target=\"_parent\"><img src=\"https://colab.research.google.com/assets/colab-badge.svg\" alt=\"Open In Colab\"/></a>"
      ]
    },
    {
      "cell_type": "code",
      "execution_count": 5,
      "metadata": {
        "id": "Ic19Yyx1rjNm"
      },
      "outputs": [],
      "source": [
        "import cv2\n",
        "import numpy as np\n",
        "from google.colab.patches import cv2_imshow\n",
        "def classify(img_path):\n",
        "  im=cv2.imread(img_path)\n",
        "  imgray=cv2.cvtColor(im,cv2.COLOR_BGR2GRAY)\n",
        "  ret, thresh =cv2.threshold(imgray ,127 , 255 , 0)\n",
        "  contours, hierarchy = cv2.findContours(thresh , cv2.RETR_TREE , cv2.CHAIN_APPROX_SIMPLE)\n",
        "  for contour in contours:\n",
        "    approx = cv2.approxPolyDP(contour, 0.01*cv2.arcLength(contour, True), True)\n",
        "    x = approx.ravel() [0]\n",
        "    y = approx.ravel() [1]\n",
        "  if len(approx) == 3:\n",
        "    return \"triangle\"\n",
        "  elif len(approx)==4:\n",
        "    return \"quadrilateral\"\n",
        "  elif len(approx)==5:\n",
        "    return \"pentagon\"\n",
        "  elif len(approx)==6:\n",
        "    return \"hexagon\"\n",
        "  elif len(approx)==7:\n",
        "    return \"heptagon\"\n",
        "  elif len(approx)==8:\n",
        "    return \"octagon\"\n",
        "  elif len(approx)==9:\n",
        "    return \"nonagon\"\n",
        "  elif len(approx)==10:\n",
        "    return \"decagon\"\n",
        "  else:\n",
        "    return \"circle\"\n",
        "    "
      ]
    },
    {
      "cell_type": "code",
      "execution_count": 6,
      "metadata": {
        "colab": {
          "base_uri": "https://localhost:8080/"
        },
        "id": "q6MXc4F26tNY",
        "outputId": "96c32456-771a-49d4-e7a7-e89ef75ab424"
      },
      "outputs": [
        {
          "output_type": "stream",
          "name": "stdout",
          "text": [
            "Collecting flask-ngrok\n",
            "  Downloading flask_ngrok-0.0.25-py3-none-any.whl (3.1 kB)\n",
            "Requirement already satisfied: requests in /usr/local/lib/python3.7/dist-packages (from flask-ngrok) (2.23.0)\n",
            "Requirement already satisfied: Flask>=0.8 in /usr/local/lib/python3.7/dist-packages (from flask-ngrok) (1.1.4)\n",
            "Requirement already satisfied: Werkzeug<2.0,>=0.15 in /usr/local/lib/python3.7/dist-packages (from Flask>=0.8->flask-ngrok) (1.0.1)\n",
            "Requirement already satisfied: click<8.0,>=5.1 in /usr/local/lib/python3.7/dist-packages (from Flask>=0.8->flask-ngrok) (7.1.2)\n",
            "Requirement already satisfied: itsdangerous<2.0,>=0.24 in /usr/local/lib/python3.7/dist-packages (from Flask>=0.8->flask-ngrok) (1.1.0)\n",
            "Requirement already satisfied: Jinja2<3.0,>=2.10.1 in /usr/local/lib/python3.7/dist-packages (from Flask>=0.8->flask-ngrok) (2.11.3)\n",
            "Requirement already satisfied: MarkupSafe>=0.23 in /usr/local/lib/python3.7/dist-packages (from Jinja2<3.0,>=2.10.1->Flask>=0.8->flask-ngrok) (2.0.1)\n",
            "Requirement already satisfied: chardet<4,>=3.0.2 in /usr/local/lib/python3.7/dist-packages (from requests->flask-ngrok) (3.0.4)\n",
            "Requirement already satisfied: idna<3,>=2.5 in /usr/local/lib/python3.7/dist-packages (from requests->flask-ngrok) (2.10)\n",
            "Requirement already satisfied: urllib3!=1.25.0,!=1.25.1,<1.26,>=1.21.1 in /usr/local/lib/python3.7/dist-packages (from requests->flask-ngrok) (1.24.3)\n",
            "Requirement already satisfied: certifi>=2017.4.17 in /usr/local/lib/python3.7/dist-packages (from requests->flask-ngrok) (2021.10.8)\n",
            "Installing collected packages: flask-ngrok\n",
            "Successfully installed flask-ngrok-0.0.25\n"
          ]
        }
      ],
      "source": [
        "!pip install flask-ngrok"
      ]
    },
    {
      "cell_type": "code",
      "execution_count": 7,
      "metadata": {
        "colab": {
          "base_uri": "https://localhost:8080/"
        },
        "id": "IfWyzx_66vzk",
        "outputId": "706e1510-84b8-4d5e-93af-e0c9159f9378"
      },
      "outputs": [
        {
          "output_type": "stream",
          "name": "stdout",
          "text": [
            "Collecting pyngrok\n",
            "  Downloading pyngrok-5.1.0.tar.gz (745 kB)\n",
            "\u001b[?25l\r\u001b[K     |▍                               | 10 kB 25.0 MB/s eta 0:00:01\r\u001b[K     |▉                               | 20 kB 31.9 MB/s eta 0:00:01\r\u001b[K     |█▎                              | 30 kB 18.9 MB/s eta 0:00:01\r\u001b[K     |█▊                              | 40 kB 12.6 MB/s eta 0:00:01\r\u001b[K     |██▏                             | 51 kB 5.7 MB/s eta 0:00:01\r\u001b[K     |██▋                             | 61 kB 6.1 MB/s eta 0:00:01\r\u001b[K     |███                             | 71 kB 5.4 MB/s eta 0:00:01\r\u001b[K     |███▌                            | 81 kB 6.0 MB/s eta 0:00:01\r\u001b[K     |████                            | 92 kB 6.0 MB/s eta 0:00:01\r\u001b[K     |████▍                           | 102 kB 5.2 MB/s eta 0:00:01\r\u001b[K     |████▉                           | 112 kB 5.2 MB/s eta 0:00:01\r\u001b[K     |█████▎                          | 122 kB 5.2 MB/s eta 0:00:01\r\u001b[K     |█████▊                          | 133 kB 5.2 MB/s eta 0:00:01\r\u001b[K     |██████▏                         | 143 kB 5.2 MB/s eta 0:00:01\r\u001b[K     |██████▋                         | 153 kB 5.2 MB/s eta 0:00:01\r\u001b[K     |███████                         | 163 kB 5.2 MB/s eta 0:00:01\r\u001b[K     |███████▌                        | 174 kB 5.2 MB/s eta 0:00:01\r\u001b[K     |████████                        | 184 kB 5.2 MB/s eta 0:00:01\r\u001b[K     |████████▍                       | 194 kB 5.2 MB/s eta 0:00:01\r\u001b[K     |████████▉                       | 204 kB 5.2 MB/s eta 0:00:01\r\u001b[K     |█████████▎                      | 215 kB 5.2 MB/s eta 0:00:01\r\u001b[K     |█████████▊                      | 225 kB 5.2 MB/s eta 0:00:01\r\u001b[K     |██████████▏                     | 235 kB 5.2 MB/s eta 0:00:01\r\u001b[K     |██████████▌                     | 245 kB 5.2 MB/s eta 0:00:01\r\u001b[K     |███████████                     | 256 kB 5.2 MB/s eta 0:00:01\r\u001b[K     |███████████▍                    | 266 kB 5.2 MB/s eta 0:00:01\r\u001b[K     |███████████▉                    | 276 kB 5.2 MB/s eta 0:00:01\r\u001b[K     |████████████▎                   | 286 kB 5.2 MB/s eta 0:00:01\r\u001b[K     |████████████▊                   | 296 kB 5.2 MB/s eta 0:00:01\r\u001b[K     |█████████████▏                  | 307 kB 5.2 MB/s eta 0:00:01\r\u001b[K     |█████████████▋                  | 317 kB 5.2 MB/s eta 0:00:01\r\u001b[K     |██████████████                  | 327 kB 5.2 MB/s eta 0:00:01\r\u001b[K     |██████████████▌                 | 337 kB 5.2 MB/s eta 0:00:01\r\u001b[K     |███████████████                 | 348 kB 5.2 MB/s eta 0:00:01\r\u001b[K     |███████████████▍                | 358 kB 5.2 MB/s eta 0:00:01\r\u001b[K     |███████████████▉                | 368 kB 5.2 MB/s eta 0:00:01\r\u001b[K     |████████████████▎               | 378 kB 5.2 MB/s eta 0:00:01\r\u001b[K     |████████████████▊               | 389 kB 5.2 MB/s eta 0:00:01\r\u001b[K     |█████████████████▏              | 399 kB 5.2 MB/s eta 0:00:01\r\u001b[K     |█████████████████▋              | 409 kB 5.2 MB/s eta 0:00:01\r\u001b[K     |██████████████████              | 419 kB 5.2 MB/s eta 0:00:01\r\u001b[K     |██████████████████▌             | 430 kB 5.2 MB/s eta 0:00:01\r\u001b[K     |███████████████████             | 440 kB 5.2 MB/s eta 0:00:01\r\u001b[K     |███████████████████▍            | 450 kB 5.2 MB/s eta 0:00:01\r\u001b[K     |███████████████████▉            | 460 kB 5.2 MB/s eta 0:00:01\r\u001b[K     |████████████████████▎           | 471 kB 5.2 MB/s eta 0:00:01\r\u001b[K     |████████████████████▋           | 481 kB 5.2 MB/s eta 0:00:01\r\u001b[K     |█████████████████████           | 491 kB 5.2 MB/s eta 0:00:01\r\u001b[K     |█████████████████████▌          | 501 kB 5.2 MB/s eta 0:00:01\r\u001b[K     |██████████████████████          | 512 kB 5.2 MB/s eta 0:00:01\r\u001b[K     |██████████████████████▍         | 522 kB 5.2 MB/s eta 0:00:01\r\u001b[K     |██████████████████████▉         | 532 kB 5.2 MB/s eta 0:00:01\r\u001b[K     |███████████████████████▎        | 542 kB 5.2 MB/s eta 0:00:01\r\u001b[K     |███████████████████████▊        | 552 kB 5.2 MB/s eta 0:00:01\r\u001b[K     |████████████████████████▏       | 563 kB 5.2 MB/s eta 0:00:01\r\u001b[K     |████████████████████████▋       | 573 kB 5.2 MB/s eta 0:00:01\r\u001b[K     |█████████████████████████       | 583 kB 5.2 MB/s eta 0:00:01\r\u001b[K     |█████████████████████████▌      | 593 kB 5.2 MB/s eta 0:00:01\r\u001b[K     |██████████████████████████      | 604 kB 5.2 MB/s eta 0:00:01\r\u001b[K     |██████████████████████████▍     | 614 kB 5.2 MB/s eta 0:00:01\r\u001b[K     |██████████████████████████▉     | 624 kB 5.2 MB/s eta 0:00:01\r\u001b[K     |███████████████████████████▎    | 634 kB 5.2 MB/s eta 0:00:01\r\u001b[K     |███████████████████████████▊    | 645 kB 5.2 MB/s eta 0:00:01\r\u001b[K     |████████████████████████████▏   | 655 kB 5.2 MB/s eta 0:00:01\r\u001b[K     |████████████████████████████▋   | 665 kB 5.2 MB/s eta 0:00:01\r\u001b[K     |█████████████████████████████   | 675 kB 5.2 MB/s eta 0:00:01\r\u001b[K     |█████████████████████████████▌  | 686 kB 5.2 MB/s eta 0:00:01\r\u001b[K     |██████████████████████████████  | 696 kB 5.2 MB/s eta 0:00:01\r\u001b[K     |██████████████████████████████▍ | 706 kB 5.2 MB/s eta 0:00:01\r\u001b[K     |██████████████████████████████▊ | 716 kB 5.2 MB/s eta 0:00:01\r\u001b[K     |███████████████████████████████▏| 727 kB 5.2 MB/s eta 0:00:01\r\u001b[K     |███████████████████████████████▋| 737 kB 5.2 MB/s eta 0:00:01\r\u001b[K     |████████████████████████████████| 745 kB 5.2 MB/s \n",
            "\u001b[?25hRequirement already satisfied: PyYAML in /usr/local/lib/python3.7/dist-packages (from pyngrok) (3.13)\n",
            "Building wheels for collected packages: pyngrok\n",
            "  Building wheel for pyngrok (setup.py) ... \u001b[?25l\u001b[?25hdone\n",
            "  Created wheel for pyngrok: filename=pyngrok-5.1.0-py3-none-any.whl size=19006 sha256=165ea37ce4292ad546d775289bef451b795b63048e90b4e4d440315d363f0800\n",
            "  Stored in directory: /root/.cache/pip/wheels/bf/e6/af/ccf6598ecefecd44104069371795cb9b3afbcd16987f6ccfb3\n",
            "Successfully built pyngrok\n",
            "Installing collected packages: pyngrok\n",
            "Successfully installed pyngrok-5.1.0\n"
          ]
        }
      ],
      "source": [
        "pip install pyngrok"
      ]
    },
    {
      "cell_type": "code",
      "execution_count": 8,
      "metadata": {
        "colab": {
          "base_uri": "https://localhost:8080/"
        },
        "id": "yAWS7w6I60tD",
        "outputId": "90a63814-7421-4063-890a-d4c46c8e338d"
      },
      "outputs": [
        {
          "output_type": "stream",
          "name": "stdout",
          "text": [
            "Authtoken saved to configuration file: /root/.ngrok2/ngrok.yml\n"
          ]
        }
      ],
      "source": [
        "!ngrok authtoken 23BNFIwnPXqtFdEHUfecKlJ2HzX_7E2gNfVsuZNC3PTFSw2Zq"
      ]
    },
    {
      "cell_type": "code",
      "execution_count": 11,
      "metadata": {
        "id": "9OjW_NW-5-xO",
        "colab": {
          "base_uri": "https://localhost:8080/"
        },
        "outputId": "f2940f3f-9fc5-4c0a-cfa8-19b2eef5f451"
      },
      "outputs": [
        {
          "metadata": {
            "tags": null
          },
          "name": "stdout",
          "output_type": "stream",
          "text": [
            " * Serving Flask app \"__main__\" (lazy loading)\n",
            " * Environment: production\n",
            "\u001b[31m   WARNING: This is a development server. Do not use it in a production deployment.\u001b[0m\n",
            "\u001b[2m   Use a production WSGI server instead.\u001b[0m\n",
            " * Debug mode: off\n"
          ]
        },
        {
          "metadata": {
            "tags": null
          },
          "name": "stderr",
          "output_type": "stream",
          "text": [
            " * Running on http://127.0.0.1:5000/ (Press CTRL+C to quit)\n"
          ]
        },
        {
          "metadata": {
            "tags": null
          },
          "name": "stdout",
          "output_type": "stream",
          "text": [
            " * Running on http://06ee-35-185-89-201.ngrok.io\n",
            " * Traffic stats available on http://127.0.0.1:4040\n"
          ]
        },
        {
          "metadata": {
            "tags": null
          },
          "name": "stderr",
          "output_type": "stream",
          "text": [
            "127.0.0.1 - - [11/Jan/2022 11:06:37] \"\u001b[37mGET / HTTP/1.1\u001b[0m\" 200 -\n",
            "127.0.0.1 - - [11/Jan/2022 11:06:38] \"\u001b[33mGET /favicon.ico HTTP/1.1\u001b[0m\" 404 -\n",
            "127.0.0.1 - - [11/Jan/2022 11:06:39] \"\u001b[37mGET / HTTP/1.1\u001b[0m\" 200 -\n",
            "127.0.0.1 - - [11/Jan/2022 11:09:43] \"\u001b[37mPOST /submit HTTP/1.1\u001b[0m\" 200 -\n"
          ]
        },
        {
          "metadata": {
            "tags": null
          },
          "name": "stdout",
          "output_type": "stream",
          "text": [
            "static/octa.jpeg\n"
          ]
        },
        {
          "metadata": {
            "tags": null
          },
          "name": "stderr",
          "output_type": "stream",
          "text": [
            "127.0.0.1 - - [11/Jan/2022 11:09:43] \"\u001b[37mGET /static/octa.jpeg HTTP/1.1\u001b[0m\" 200 -\n",
            "[2022-01-11 11:09:45,561] ERROR in app: Exception on /submit [GET]\n",
            "Traceback (most recent call last):\n",
            "  File \"/usr/local/lib/python3.7/dist-packages/flask/app.py\", line 2447, in wsgi_app\n",
            "    response = self.full_dispatch_request()\n",
            "  File \"/usr/local/lib/python3.7/dist-packages/flask/app.py\", line 1953, in full_dispatch_request\n",
            "    return self.finalize_request(rv)\n",
            "  File \"/usr/local/lib/python3.7/dist-packages/flask/app.py\", line 1968, in finalize_request\n",
            "    response = self.make_response(rv)\n",
            "  File \"/usr/local/lib/python3.7/dist-packages/flask/app.py\", line 2098, in make_response\n",
            "    \"The view function did not return a valid response. The\"\n",
            "TypeError: The view function did not return a valid response. The function either returned None or ended without a return statement.\n",
            "127.0.0.1 - - [11/Jan/2022 11:09:45] \"\u001b[35m\u001b[1mGET /submit HTTP/1.1\u001b[0m\" 500 -\n",
            "127.0.0.1 - - [11/Jan/2022 11:10:09] \"\u001b[37mPOST /submit HTTP/1.1\u001b[0m\" 200 -\n"
          ]
        },
        {
          "metadata": {
            "tags": null
          },
          "name": "stdout",
          "output_type": "stream",
          "text": [
            "static/pent.jpeg\n"
          ]
        },
        {
          "metadata": {
            "tags": null
          },
          "name": "stderr",
          "output_type": "stream",
          "text": [
            "127.0.0.1 - - [11/Jan/2022 11:10:09] \"\u001b[37mGET /static/pent.jpeg HTTP/1.1\u001b[0m\" 200 -\n"
          ]
        }
      ],
      "source": [
        "import numpy as np\n",
        "from flask_ngrok import run_with_ngrok\n",
        "import cv2\n",
        "from flask import Flask, render_template, request\n",
        "\n",
        "app = Flask(__name__)\n",
        "run_with_ngrok(app)   \n",
        "\n",
        "\n",
        "@app.route(\"/\", methods=['GET', 'POST'])\n",
        "def main():\n",
        "\treturn render_template(\"index.html\")\n",
        "\n",
        "@app.route(\"/submit\", methods = ['GET', 'POST'])\n",
        "def get_output():\n",
        "  if request.method == 'POST':\n",
        "    img = request.files['my_image']\n",
        "    img_path = \"static/\" + img.filename\t\n",
        "    img.save(img_path)\n",
        "    print(img_path)\n",
        "    p = classify(img_path)\n",
        "    return render_template(\"index.html\", prediction = p, img_path = img_path)\n",
        "app.run()"
      ]
    }
  ],
  "metadata": {
    "colab": {
      "collapsed_sections": [],
      "name": "Shape Detection.ipynb",
      "provenance": [],
      "authorship_tag": "ABX9TyN/VpOPGnd+vaOnZtivTCu5",
      "include_colab_link": true
    },
    "kernelspec": {
      "display_name": "Python 3",
      "name": "python3"
    },
    "language_info": {
      "name": "python"
    }
  },
  "nbformat": 4,
  "nbformat_minor": 0
}